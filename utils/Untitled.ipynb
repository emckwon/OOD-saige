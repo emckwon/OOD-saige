{
 "cells": [
  {
   "cell_type": "code",
   "execution_count": 14,
   "metadata": {},
   "outputs": [],
   "source": [
    "import os\n",
    "from PIL import Image\n",
    "import numpy as np"
   ]
  },
  {
   "cell_type": "code",
   "execution_count": 4,
   "metadata": {},
   "outputs": [],
   "source": [
    "droot = \"/home/sr2/HDD2/Openset/\"\n",
    "sroot = \"/home/sr2/Hyeokjun/OOD-saige/datasets/data_split/\""
   ]
  },
  {
   "cell_type": "code",
   "execution_count": 6,
   "metadata": {},
   "outputs": [],
   "source": [
    "dataset = \"Severstal\""
   ]
  },
  {
   "cell_type": "code",
   "execution_count": null,
   "metadata": {},
   "outputs": [],
   "source": [
    "f = open(os.path.join(sroot, dataset, \"stats.txt\"), 'w')\n",
    "\n",
    "stats = dict()\n",
    "for subdir in os.listdir(path.join(droot, dataset)):\n",
    "    subdir_list = os.listdir(os.path.join(droot, dataset, subdir))\n",
    "    stats[subdir] = dict()\n",
    "    stats[subdir]['len'] = 0\n",
    "    for idx, img in enumerate(subdir_list):\n",
    "        if 'ipynb' not in img:\n",
    "            ipath = os.path.join(droot, dataset, subdir, img)\n",
    "            img = Image.open(ipath)\n",
    "            if idx == 0:\n",
    "                stat[subdir]['mean'] = np.zeros(img.shape[2])\n",
    "                stat[subdir]['sos'] = np.zeros(img.shape[2])\n",
    "            img = np.asarray(img)\n",
    "            img = np.reshape(img, (-1, img.shape[2]))\n",
    "            dim = img.shape[0]\n",
    "            img = np.array(img, dtype=np.float64)\n",
    "            img_mean = np.mean(img, axis=0)\n",
    "            img_sos = np.sum(img**2, axis=0)\n",
    "            \n",
    "            stats[subdir]['len'] += 1\n",
    "            \n",
    "            cur_mean = stat[subdir]['mean']\n",
    "            stat[subdir]['mean'] = cur_mean + (img_mean - cur_mean) / stat[subdir]['len']\n",
    "            \n",
    "            cur_sos = stat[subdir]['sos']\n",
    "            stat[subdir]['sos'] += img_sos * dim\n",
    "            \n",
    "            \n",
    "            \n",
    "            "
   ]
  },
  {
   "cell_type": "code",
   "execution_count": null,
   "metadata": {},
   "outputs": [],
   "source": []
  },
  {
   "cell_type": "code",
   "execution_count": 122,
   "metadata": {},
   "outputs": [
    {
     "data": {
      "text/plain": [
       "(256, 256, 3)"
      ]
     },
     "execution_count": 122,
     "metadata": {},
     "output_type": "execute_result"
    }
   ],
   "source": [
    "sample = \"/home/sr2/HDD2/Openset/SDI/34Ah/1/0.png\"\n",
    "img = Image.open(sample)\n",
    "img = np.asarray(img)\n",
    "img.shape"
   ]
  },
  {
   "cell_type": "code",
   "execution_count": 123,
   "metadata": {},
   "outputs": [
    {
     "data": {
      "text/plain": [
       "(array([134.,  44., 131.]), array([17956.,  1936., 17161.]))"
      ]
     },
     "execution_count": 123,
     "metadata": {},
     "output_type": "execute_result"
    }
   ],
   "source": [
    "img = np.reshape(img, (-1, img.shape[2]))\n",
    "img = np.array(img, dtype=np.float64)\n",
    "img[0], (img**2)[0]"
   ]
  },
  {
   "cell_type": "code",
   "execution_count": 124,
   "metadata": {},
   "outputs": [
    {
     "data": {
      "text/plain": [
       "(array([ 96.21740723,  50.53909302, 128.008255  ]),\n",
       " array([43.87085783, 12.60654776,  9.84270404]),\n",
       " array([11182.44161987,  2713.12496948, 16482.99217224]),\n",
       " array([ 96.21740723,  50.53909302, 128.008255  ]))"
      ]
     },
     "execution_count": 124,
     "metadata": {},
     "output_type": "execute_result"
    }
   ],
   "source": [
    "img_mean = np.mean(img, axis=0)\n",
    "img_std = np.std(img, axis=0)\n",
    "img_sos = np.sum(img**2, axis=0)\n",
    "img_sum = np.sum(img, axis=0)\n",
    "img_mean, img_std, img_sos/(256*256), img_sum/(256 *256)"
   ]
  },
  {
   "cell_type": "code",
   "execution_count": 125,
   "metadata": {},
   "outputs": [
    {
     "data": {
      "text/plain": [
       "array([1924.65216647,  158.92504644,   96.87882285])"
      ]
     },
     "execution_count": 125,
     "metadata": {},
     "output_type": "execute_result"
    }
   ],
   "source": [
    "img_sos / (256 * 256) - img_mean**2"
   ]
  },
  {
   "cell_type": "code",
   "execution_count": 89,
   "metadata": {},
   "outputs": [
    {
     "data": {
      "text/plain": [
       "array([1924.65216647,  158.92504644,   96.87882285])"
      ]
     },
     "execution_count": 89,
     "metadata": {},
     "output_type": "execute_result"
    }
   ],
   "source": [
    "img_std**2"
   ]
  },
  {
   "cell_type": "code",
   "execution_count": 50,
   "metadata": {},
   "outputs": [
    {
     "ename": "ValueError",
     "evalue": "operands could not be broadcast together with shapes (3,) (2,) ",
     "output_type": "error",
     "traceback": [
      "\u001b[0;31m---------------------------------------------------------------------------\u001b[0m",
      "\u001b[0;31mValueError\u001b[0m                                Traceback (most recent call last)",
      "\u001b[0;32m<ipython-input-50-17de5f826efa>\u001b[0m in \u001b[0;36m<module>\u001b[0;34m\u001b[0m\n\u001b[0;32m----> 1\u001b[0;31m \u001b[0mimg_mean\u001b[0m \u001b[0;34m+\u001b[0m \u001b[0mnp\u001b[0m\u001b[0;34m.\u001b[0m\u001b[0mzeros\u001b[0m\u001b[0;34m(\u001b[0m\u001b[0;36m2\u001b[0m\u001b[0;34m)\u001b[0m\u001b[0;34m\u001b[0m\u001b[0;34m\u001b[0m\u001b[0m\n\u001b[0m",
      "\u001b[0;31mValueError\u001b[0m: operands could not be broadcast together with shapes (3,) (2,) "
     ]
    }
   ],
   "source": [
    "img_mean + np.zeros(2)"
   ]
  },
  {
   "cell_type": "code",
   "execution_count": 69,
   "metadata": {},
   "outputs": [],
   "source": [
    "t = np.ones(3) * 2"
   ]
  },
  {
   "cell_type": "code",
   "execution_count": 93,
   "metadata": {},
   "outputs": [
    {
     "data": {
      "text/plain": [
       "0.0"
      ]
     },
     "execution_count": 93,
     "metadata": {},
     "output_type": "execute_result"
    }
   ],
   "source": [
    "np.sum(t**2, axis=0)/3 - np.mean(t)**2"
   ]
  },
  {
   "cell_type": "code",
   "execution_count": null,
   "metadata": {},
   "outputs": [],
   "source": []
  }
 ],
 "metadata": {
  "kernelspec": {
   "display_name": "ood",
   "language": "python",
   "name": "ood"
  },
  "language_info": {
   "codemirror_mode": {
    "name": "ipython",
    "version": 3
   },
   "file_extension": ".py",
   "mimetype": "text/x-python",
   "name": "python",
   "nbconvert_exporter": "python",
   "pygments_lexer": "ipython3",
   "version": "3.7.7"
  }
 },
 "nbformat": 4,
 "nbformat_minor": 4
}
