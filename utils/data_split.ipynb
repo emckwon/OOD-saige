{
 "cells": [
  {
   "cell_type": "code",
   "execution_count": 38,
   "metadata": {},
   "outputs": [],
   "source": [
    "import os"
   ]
  },
  {
   "cell_type": "code",
   "execution_count": 48,
   "metadata": {},
   "outputs": [],
   "source": [
    "droot = \"/home/sr2/HDD2/Openset/\"\n",
    "dataset = \"SDI/34Ah\"\n",
    "save_dir = \"/home/sr2/Hyeokjun/OOD-saige/datasets/data_split/\"\n",
    "os.makedirs(os.path.join(save_dir, dataset))"
   ]
  },
  {
   "cell_type": "code",
   "execution_count": 49,
   "metadata": {},
   "outputs": [],
   "source": [
    "train_split = open(os.path.join(save_dir, dataset, \"train.txt\"), 'w')\n",
    "valid_split = open(os.path.join(save_dir, dataset, \"valid.txt\"), 'w')\n",
    "test_split = open(os.path.join(save_dir, dataset, \"test.txt\"), 'w')\n",
    "\n",
    "for subdir in os.listdir(os.path.join(droot, dataset)):\n",
    "    subdir_list = os.listdir(os.path.join(droot, dataset, subdir))\n",
    "    p = int(len(subdir_list) / 10)\n",
    "    if len(subdir_list) <= 10:\n",
    "        p = 2\n",
    "    for idx, img in enumerate(subdir_list):\n",
    "        if (idx == 0 or idx <= int((p + 1)/2)) and 'ipynb' not in img:\n",
    "            test_split.write(os.path.join(subdir, img) + \"\\n\")\n",
    "        elif idx <= (p+1) and 'ipynb' not in img:\n",
    "            valid_split.write(os.path.join(subdir, img) + \"\\n\")\n",
    "        elif 'ipynb' not in img:\n",
    "            train_split.write(os.path.join(subdir, img) + \"\\n\")\n",
    "            \n",
    "train_split.close()\n",
    "valid_split.close()\n",
    "test_split.close()"
   ]
  },
  {
   "cell_type": "code",
   "execution_count": null,
   "metadata": {},
   "outputs": [],
   "source": []
  }
 ],
 "metadata": {
  "kernelspec": {
   "display_name": "ood",
   "language": "python",
   "name": "ood"
  },
  "language_info": {
   "codemirror_mode": {
    "name": "ipython",
    "version": 3
   },
   "file_extension": ".py",
   "mimetype": "text/x-python",
   "name": "python",
   "nbconvert_exporter": "python",
   "pygments_lexer": "ipython3",
   "version": "3.7.7"
  }
 },
 "nbformat": 4,
 "nbformat_minor": 4
}
