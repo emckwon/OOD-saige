{
 "cells": [
  {
   "cell_type": "code",
   "execution_count": 38,
   "metadata": {},
   "outputs": [],
   "source": [
    "import os"
   ]
  },
  {
   "cell_type": "code",
   "execution_count": 48,
   "metadata": {},
   "outputs": [],
   "source": [
    "droot = \"/home/sr2/HDD2/Openset/\"\n",
    "dataset = \"SDI/34Ah\"\n",
    "save_dir = \"/home/sr2/Hyeokjun/OOD-saige/datasets/data_split/\"\n",
    "os.makedirs(os.path.join(save_dir, dataset))"
   ]
  },
  {
   "cell_type": "code",
   "execution_count": 49,
   "metadata": {},
   "outputs": [],
   "source": [
    "train_split = open(os.path.join(save_dir, dataset, \"train.txt\"), 'w')\n",
    "valid_split = open(os.path.join(save_dir, dataset, \"valid.txt\"), 'w')\n",
    "test_split = open(os.path.join(save_dir, dataset, \"test.txt\"), 'w')\n",
    "\n",
    "for subdir in os.listdir(os.path.join(droot, dataset)):\n",
    "    subdir_list = os.listdir(os.path.join(droot, dataset, subdir))\n",
    "    p = int(len(subdir_list) / 10)\n",
    "    if len(subdir_list) <= 10:\n",
    "        p = 2\n",
    "    for idx, img in enumerate(subdir_list):\n",
    "        if (idx == 0 or idx <= int((p + 1)/2)) and 'ipynb' not in img:\n",
    "            test_split.write(os.path.join(subdir, img) + \"\\n\")\n",
    "        elif idx <= (p+1) and 'ipynb' not in img:\n",
    "            valid_split.write(os.path.join(subdir, img) + \"\\n\")\n",
    "        elif 'ipynb' not in img:\n",
    "            train_split.write(os.path.join(subdir, img) + \"\\n\")\n",
    "            \n",
    "train_split.close()\n",
    "valid_split.close()\n",
    "test_split.close()"
   ]
  },
  {
   "cell_type": "code",
   "execution_count": 3,
   "metadata": {},
   "outputs": [],
   "source": [
    "import torch"
   ]
  },
  {
   "cell_type": "code",
   "execution_count": 35,
   "metadata": {},
   "outputs": [
    {
     "name": "stdout",
     "output_type": "stream",
     "text": [
      "tensor([[0.3882, 0.0467, 0.8687, 0.7825, 0.7821],\n",
      "        [0.5720, 0.8887, 0.1577, 0.9333, 0.9160],\n",
      "        [0.7224, 0.5857, 0.3571, 0.4325, 0.8974],\n",
      "        [0.8930, 0.9488, 0.0341, 0.4937, 0.5811],\n",
      "        [0.7397, 0.7363, 0.4111, 0.5866, 0.2990]])\n"
     ]
    }
   ],
   "source": [
    "sm = torch.rand(5,5)\n",
    "print(sm)"
   ]
  },
  {
   "cell_type": "code",
   "execution_count": 36,
   "metadata": {},
   "outputs": [],
   "source": [
    "temp = torch.max(sm, dim=1, keepdim=True).values"
   ]
  },
  {
   "cell_type": "code",
   "execution_count": 37,
   "metadata": {},
   "outputs": [
    {
     "data": {
      "text/plain": [
       "tensor([[0.8687],\n",
       "        [0.9333],\n",
       "        [0.8974],\n",
       "        [0.9488],\n",
       "        [0.7397]])"
      ]
     },
     "execution_count": 37,
     "metadata": {},
     "output_type": "execute_result"
    }
   ],
   "source": [
    "temp"
   ]
  },
  {
   "cell_type": "code",
   "execution_count": 40,
   "metadata": {},
   "outputs": [],
   "source": [
    "conf = (temp > 0.8)"
   ]
  },
  {
   "cell_type": "code",
   "execution_count": 41,
   "metadata": {},
   "outputs": [
    {
     "data": {
      "text/plain": [
       "<function Tensor.int>"
      ]
     },
     "execution_count": 41,
     "metadata": {},
     "output_type": "execute_result"
    }
   ],
   "source": [
    "conf"
   ]
  },
  {
   "cell_type": "code",
   "execution_count": null,
   "metadata": {},
   "outputs": [],
   "source": []
  }
 ],
 "metadata": {
  "kernelspec": {
   "display_name": "ood",
   "language": "python",
   "name": "ood"
  },
  "language_info": {
   "codemirror_mode": {
    "name": "ipython",
    "version": 3
   },
   "file_extension": ".py",
   "mimetype": "text/x-python",
   "name": "python",
   "nbconvert_exporter": "python",
   "pygments_lexer": "ipython3",
   "version": "3.7.7"
  }
 },
 "nbformat": 4,
 "nbformat_minor": 4
}
