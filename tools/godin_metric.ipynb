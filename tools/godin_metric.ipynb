{
 "cells": [
  {
   "cell_type": "code",
   "execution_count": 1,
   "metadata": {},
   "outputs": [],
   "source": [
    "import torch\n",
    "import os\n",
    "import seaborn as sns\n",
    "import numpy as np\n",
    "import matplotlib.pyplot as plt\n",
    "import sys\n",
    "sys.path.append(\"../\")\n",
    "\n",
    "import utils.metrics as metrics"
   ]
  },
  {
   "cell_type": "code",
   "execution_count": 2,
   "metadata": {},
   "outputs": [],
   "source": [
    "#root = \"/home/sr2/Hyeokjun/OOD-saige/results/res18_pretrained_severstal012_godin/logits/\"\n",
    "root = \"/home/sr2/Hyeokjun/OOD-saige/results/wrn28-10_cifar10_godin_hc_gi/logits/\""
   ]
  },
  {
   "cell_type": "code",
   "execution_count": 3,
   "metadata": {},
   "outputs": [],
   "source": [
    "# ## Load inlier\n",
    "# # ====================Severstal=====================\n",
    "# h_confidences_ok = torch.load(os.path.join(root, \"Severstal/ok/h_confidences.pt\"))\n",
    "# f_confidences_ok = torch.load(os.path.join(root, \"Severstal/ok/f_confidences.pt\"))\n",
    "# logits_ok = torch.load(os.path.join(root, \"Severstal/ok/logits.pt\"))\n",
    "# targets_ok = torch.load(os.path.join(root, \"Severstal/ok/targets.pt\"))\n",
    "# h_confidences_ok = h_confidences_ok\n",
    "# f_confidences_ok = f_confidences_ok\n",
    "\n",
    "# h_confidences_1 = torch.load(os.path.join(root, \"Severstal/1/h_confidences.pt\"))\n",
    "# f_confidences_1 = torch.load(os.path.join(root, \"Severstal/1/f_confidences.pt\"))\n",
    "# logits_1 = torch.load(os.path.join(root, \"Severstal/1/logits.pt\"))\n",
    "# targets_1 = torch.load(os.path.join(root, \"Severstal/1/targets.pt\"))\n",
    "# h_confidences_1 = h_confidences_1\n",
    "# f_confidences_1 = f_confidences_1\n",
    "\n",
    "# h_confidences_2 = torch.load(os.path.join(root, \"Severstal/2/h_confidences.pt\"))\n",
    "# f_confidences_2 = torch.load(os.path.join(root, \"Severstal/2/f_confidences.pt\"))\n",
    "# logits_2 = torch.load(os.path.join(root, \"Severstal/2/logits.pt\"))\n",
    "# targets_2 = torch.load(os.path.join(root, \"Severstal/2/targets.pt\"))\n",
    "# h_confidences_2 = h_confidences_2\n",
    "# f_confidences_2 = f_confidences_2\n",
    "\n",
    "# h_confidences_3 = torch.load(os.path.join(root, \"Severstal/3/h_confidences.pt\"))\n",
    "# f_confidences_3 = torch.load(os.path.join(root, \"Severstal/3/f_confidences.pt\"))\n",
    "# logits_3 = torch.load(os.path.join(root, \"Severstal/3/logits.pt\"))\n",
    "# targets_3 = torch.load(os.path.join(root, \"Severstal/3/targets.pt\"))\n",
    "# h_confidences_3 = h_confidences_3\n",
    "# f_confidences_3 = f_confidences_3\n",
    "\n",
    "# h_confidences_4 = torch.load(os.path.join(root, \"Severstal/4/h_confidences.pt\"))\n",
    "# f_confidences_4 = torch.load(os.path.join(root, \"Severstal/4/f_confidences.pt\"))\n",
    "# logits_4 = torch.load(os.path.join(root, \"Severstal/4/logits.pt\"))\n",
    "# targets_4 = torch.load(os.path.join(root, \"Severstal/4/targets.pt\"))\n",
    "# h_confidences_4 = h_confidences_4\n",
    "# f_confidences_4 = f_confidences_4\n",
    "\n",
    "# ind_h_confidences = torch.cat([h_confidences_ok, h_confidences_1, h_confidences_2], 0)\n",
    "# ind_f_confidences = torch.cat([f_confidences_ok, f_confidences_1, f_confidences_2], 0)\n",
    "\n",
    "# ind_h_scores = torch.cat([h_confidences_ok, h_confidences_1, h_confidences_2], 0).squeeze(1).numpy()\n",
    "# ind_f_scores = torch.cat([f_confidences_ok, f_confidences_1, f_confidences_2], 0).squeeze(1).numpy()\n",
    "\n",
    "# ind_logits = torch.cat([logits_ok, logits_1, logits_2], 0)\n",
    "# ind_targets = torch.cat([targets_ok, targets_1, targets_2], 0)\n",
    "\n",
    "# ood_h_confidences = torch.cat([h_confidences_3, h_confidences_4], 0)\n",
    "# ood_f_confidences = torch.cat([f_confidences_3, f_confidences_4], 0)\n",
    "\n",
    "# ood_h_scores = torch.cat([h_confidences_3, h_confidences_4], 0).squeeze(1).numpy()\n",
    "# ood_f_scores = torch.cat([f_confidences_3, f_confidences_4], 0).squeeze(1).numpy()\n",
    "\n",
    "# ood_logits = torch.cat([logits_3, logits_4], 0)\n",
    "# ood_targets = torch.cat([targets_3, targets_4], 0)\n",
    "# ====================Severstal=====================\n",
    "# ====================HBT/LAMI=====================\n",
    "# h_confidences_0 = torch.load(os.path.join(root, \"HBT/LAMI/Scratch/h_confidences.pt\"))\n",
    "# f_confidences_0 = torch.load(os.path.join(root, \"HBT/LAMI/Scratch/f_confidences.pt\"))\n",
    "# logits_0 = torch.load(os.path.join(root, \"HBT/LAMI/Scratch/logits.pt\"))\n",
    "# targets_0 = torch.load(os.path.join(root, \"HBT/LAMI/Scratch/targets.pt\"))\n",
    "# h_confidences_0 = h_confidences_0\n",
    "# f_confidences_0 = f_confidences_0\n",
    "\n",
    "# h_confidences_1 = torch.load(os.path.join(root, \"HBT/LAMI/ND/h_confidences.pt\"))\n",
    "# f_confidences_1 = torch.load(os.path.join(root, \"HBT/LAMI/ND/f_confidences.pt\"))\n",
    "# logits_1 = torch.load(os.path.join(root, \"HBT/LAMI/ND/logits.pt\"))\n",
    "# targets_1 = torch.load(os.path.join(root, \"HBT/LAMI/ND/targets.pt\"))\n",
    "# h_confidences_1 = h_confidences_1\n",
    "# f_confidences_1 = f_confidences_1\n",
    "\n",
    "# h_confidences_2 = torch.load(os.path.join(root, \"HBT/LAMI/Bubble/h_confidences.pt\"))\n",
    "# f_confidences_2 = torch.load(os.path.join(root, \"HBT/LAMI/Bubble/f_confidences.pt\"))\n",
    "# logits_2 = torch.load(os.path.join(root, \"HBT/LAMI/Bubble/logits.pt\"))\n",
    "# targets_2 = torch.load(os.path.join(root, \"HBT/LAMI/Bubble/targets.pt\"))\n",
    "# h_confidences_2 = h_confidences_2\n",
    "# f_confidences_2 = f_confidences_2\n",
    "\n",
    "# ind_h_confidences = torch.cat([h_confidences_0, h_confidences_1], 0)\n",
    "# ind_f_confidences = torch.cat([f_confidences_0, f_confidences_1], 0)\n",
    "\n",
    "# ind_h_scores = torch.cat([h_confidences_0, h_confidences_1], 0).squeeze(1).numpy()\n",
    "# ind_f_scores = torch.cat([f_confidences_0, f_confidences_1], 0).squeeze(1).numpy()\n",
    "\n",
    "# ind_logits = torch.cat([logits_0, logits_1], 0)\n",
    "# ind_targets = torch.cat([targets_0, targets_1], 0)\n",
    "\n",
    "# ood_h_confidences = torch.cat([h_confidences_2], 0)\n",
    "# ood_f_confidences = torch.cat([f_confidences_2], 0)\n",
    "\n",
    "# ood_h_scores = ood_h_confidences.squeeze(1).numpy()\n",
    "# ood_f_scores = ood_f_confidences.squeeze(1).numpy()\n",
    "\n",
    "# ood_logits = torch.cat([logits_2], 0)\n",
    "# ood_targets = torch.cat([targets_2], 0)\n",
    "# \n",
    "# ====================HBT/LAMI=====================\n",
    "\n",
    "\n",
    "ind_h_confidences = torch.load(os.path.join(root, \"cifar10/h_confidences.pt\"))\n",
    "ind_f_confidences = torch.load(os.path.join(root, \"cifar10/f_confidences.pt\"))\n",
    "ind_h_scores = ind_h_confidences.squeeze(1).numpy()\n",
    "ind_f_scores = ind_f_confidences.squeeze(1).numpy()\n",
    "ind_logits = torch.load(os.path.join(root, \"cifar10/logits.pt\"))\n",
    "ind_targets = torch.load(os.path.join(root, \"cifar10/targets.pt\"))\n"
   ]
  },
  {
   "cell_type": "code",
   "execution_count": 4,
   "metadata": {},
   "outputs": [],
   "source": [
    "# ## Load outlier\n",
    "# ood_dataset = \"svhn\"\n",
    "# ood_h_confidences = torch.load(os.path.join(root, ood_dataset, \"h_confidences.pt\"))\n",
    "# ood_f_confidences = torch.load(os.path.join(root, ood_dataset, \"f_confidences.pt\"))\n",
    "# ood_h_scores = ood_h_confidences.squeeze(1).numpy()\n",
    "# ood_f_scores = ood_f_confidences.squeeze(1).numpy()\n",
    "# ood_logits = torch.load(os.path.join(root, ood_dataset, \"logits.pt\"))\n",
    "# ood_targets = torch.load(os.path.join(root, ood_dataset, \"targets.pt\"))\n",
    "\n",
    "ood_dataset = \"HBT/NUDE\"\n",
    "ood_path = os.path.join(root, ood_dataset)\n",
    "\n",
    "ood_h_confidences_list = []\n",
    "ood_f_confidences_list = []\n",
    "ood_logits_list = []\n",
    "ood_targets_list = []\n",
    "\n",
    "for idx, label in enumerate(os.listdir(ood_path)):\n",
    "    ood_h_confidences_list.append(torch.load(os.path.join(ood_path, label, \"h_confidences.pt\")))\n",
    "    ood_f_confidences_list.append(torch.load(os.path.join(ood_path, label, \"f_confidences.pt\")))\n",
    "    ood_logits_list.append(torch.load(os.path.join(ood_path, label, \"logits.pt\")))\n",
    "    ood_targets_list.append(torch.load(os.path.join(ood_path, label, \"targets.pt\")))\n",
    "\n",
    "ood_h_confidences = torch.cat(ood_h_confidences_list, 0)\n",
    "ood_f_confidences = torch.cat(ood_f_confidences_list, 0)\n",
    "ood_logits = torch.cat(ood_logits_list, 0)\n",
    "ood_targets = torch.cat(ood_targets_list, 0)\n",
    "ood_h_scores = ood_h_confidences.squeeze(1).numpy()\n",
    "ood_f_scores = ood_f_confidences.squeeze(1).numpy()"
   ]
  },
  {
   "cell_type": "code",
   "execution_count": 5,
   "metadata": {},
   "outputs": [],
   "source": [
    "## Plot confidence score\n",
    "def plot_confidences(ind_scores, ood_scores):\n",
    "    ind_max, ind_min = np.max(ind_scores), np.min(ind_scores)\n",
    "    ood_max, ood_min = np.max(ood_scores), np.min(ood_scores)\n",
    "\n",
    "\n",
    "    ranges = (ind_min if ind_min < ood_min else ood_min, ind_max if ind_max > ood_max else ood_max)\n",
    "    ranges\n",
    "\n",
    "    fig=plt.figure()\n",
    "    sns.distplot(ind_scores.ravel(), hist_kws={'range': ranges}, kde=False, bins=50, norm_hist=True, label='In-distribution')\n",
    "    sns.distplot(ood_scores.ravel(), hist_kws={'range': ranges}, kde=False, bins=50, norm_hist=True, label='Out-of-distribution')\n",
    "    plt.xlabel('Confidence')\n",
    "    plt.ylabel('Density')\n",
    "    fig.legend()"
   ]
  },
  {
   "cell_type": "code",
   "execution_count": 6,
   "metadata": {},
   "outputs": [
    {
     "name": "stdout",
     "output_type": "stream",
     "text": [
      "AUROC: 0.9907292705278591 | FPR95: 0.030058651026392963 | AUIN: 0.9976056467695698 |  AUOUT: 0.11615285470561776\n",
      "acc:  0.9172\n",
      "acc_w_ood:  0.9092552065849304\n"
     ]
    },
    {
     "data": {
      "image/png": "[encoded data removed]",
      "text/plain": [
       "<Figure size 432x288 with 1 Axes>"
      ]
     },
     "metadata": {
      "needs_background": "light"
     },
     "output_type": "display_data"
    },
    {
     "data": {
      "image/png": "[encoded data removed]",
      "text/plain": [
       "<Figure size 432x288 with 1 Axes>"
      ]
     },
     "metadata": {
      "needs_background": "light"
     },
     "output_type": "display_data"
    }
   ],
   "source": [
    "## Metrics\n",
    "plot_confidences(ind_f_scores, ood_f_scores)\n",
    "plot_confidences(ind_h_scores, ood_h_scores)\n",
    "\n",
    "confidences = torch.cat((ind_h_confidences, ood_h_confidences), 0)\n",
    "logits = torch.cat((ind_logits, ood_logits), 0)\n",
    "\n",
    "targets = ind_targets\n",
    "(auroc, aupr, fpr) = metrics.get_ood_measures(confidences, targets)\n",
    "auout = metrics.get_auout(confidences, targets)\n",
    "print(\"AUROC: {} | FPR95: {} | AUIN: {} |  AUOUT: {}\".format(auroc, fpr, aupr, auout))\n",
    "num_topks_correct = metrics.topks_correct(logits[:len(targets)], targets, (1,))\n",
    "[top1_correct] = [x for x in num_topks_correct]\n",
    "print(\"acc: \", top1_correct.item() / targets.size(0))\n",
    "\n",
    "acc_w_ood = metrics.classify_acc_w_ood(logits, targets, confidences)\n",
    "print(\"acc_w_ood: \", acc_w_ood.item())"
   ]
  },
  {
   "cell_type": "code",
   "execution_count": null,
   "metadata": {},
   "outputs": [],
   "source": []
  },
  {
   "cell_type": "code",
   "execution_count": null,
   "metadata": {},
   "outputs": [],
   "source": []
  }
 ],
 "metadata": {
  "kernelspec": {
   "display_name": "ood",
   "language": "python",
   "name": "ood"
  },
  "language_info": {
   "codemirror_mode": {
    "name": "ipython",
    "version": 3
   },
   "file_extension": ".py",
   "mimetype": "text/x-python",
   "name": "python",
   "nbconvert_exporter": "python",
   "pygments_lexer": "ipython3",
   "version": "3.7.7"
  }
 },
 "nbformat": 4,
 "nbformat_minor": 4
}
