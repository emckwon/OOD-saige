{
 "cells": [
  {
   "cell_type": "code",
   "execution_count": 27,
   "metadata": {},
   "outputs": [],
   "source": [
    "import torch\n",
    "import os\n",
    "import seaborn as sns\n",
    "import numpy as np\n",
    "import matplotlib.pyplot as plt\n",
    "import sys\n",
    "sys.path.append(\"../\")\n",
    "import utils.metrics as metrics"
   ]
  },
  {
   "cell_type": "code",
   "execution_count": 28,
   "metadata": {},
   "outputs": [],
   "source": [
    "root = \"/home/sr2/Hyeokjun/OOD-saige/results/wrn28-10_cifar10_godin_hc_gi/logits/\"\n",
    "#root = \"/home/sr2/Hyeokjun/OOD-saige/results/wrn_cifar10_godin_hc_gi/logits/\""
   ]
  },
  {
   "cell_type": "code",
   "execution_count": 29,
   "metadata": {},
   "outputs": [],
   "source": [
    "## Load inlier\n",
    "\n",
    "# confidences_ok = torch.load(os.path.join(root, \"Severstal/ok/confidences.pt\"))\n",
    "# confidences_ok = confidences_ok.squeeze(1)\n",
    "# confidences_1 = torch.load(os.path.join(root, \"Severstal/1/confidences.pt\"))\n",
    "# confidences_1 = confidences_1.squeeze(1)\n",
    "# confidences_2 = torch.load(os.path.join(root, \"Severstal/2/confidences.pt\"))\n",
    "# confidences_2 = confidences_2.squeeze(1)\n",
    "# ind_scores = torch.cat([confidences_ok, confidences_1, confidences_2]).numpy()\n",
    "\n",
    "\n",
    "ind_h_confidences = torch.load(os.path.join(root, \"cifar10/h_confidences.pt\"))\n",
    "ind_f_confidences = torch.load(os.path.join(root, \"cifar10/f_confidences.pt\"))\n",
    "ind_h_scores = ind_h_confidences.squeeze(1).numpy()\n",
    "ind_f_scores = ind_f_confidences.squeeze(1).numpy()\n",
    "ind_logits = torch.load(os.path.join(root, \"cifar10/logits.pt\"))\n",
    "ind_targets = torch.load(os.path.join(root, \"cifar10/targets.pt\"))\n"
   ]
  },
  {
   "cell_type": "code",
   "execution_count": 33,
   "metadata": {},
   "outputs": [],
   "source": [
    "## Load outlier\n",
    "\n",
    "# confidences_3 = torch.load(os.path.join(root, \"Severstal/3/confidences.pt\"))\n",
    "# confidences_3 = confidences_3.squeeze(1)\n",
    "# confidences_4 = torch.load(os.path.join(root, \"Severstal/4/confidences.pt\"))\n",
    "# confidences_4 = confidences_4.squeeze(1)\n",
    "# ood_scores = torch.cat([confidences_3, confidences_4]).numpy()\n",
    "\n",
    "ood_dataset = \"lsun_resize\"\n",
    "ood_h_confidences = torch.load(os.path.join(root, ood_dataset, \"h_confidences.pt\"))\n",
    "ood_f_confidences = torch.load(os.path.join(root, ood_dataset, \"f_confidences.pt\"))\n",
    "ood_h_scores = ood_h_confidences.squeeze(1).numpy()\n",
    "ood_f_scores = ood_f_confidences.squeeze(1).numpy()\n",
    "ood_logits = torch.load(os.path.join(root, ood_dataset, \"logits.pt\"))\n",
    "ood_targets = torch.load(os.path.join(root, ood_dataset, \"targets.pt\"))\n",
    "\n",
    "# conf_list = []\n",
    "# for target in os.listdir(os.path.join(root, \"Severstal\")):\n",
    "#     if \"ipynb\" in target:\n",
    "#         continue\n",
    "#     conf = torch.load(os.path.join(root, \"Severstal\", target, \"confidences.pt\")).squeeze(1)\n",
    "#     conf_list.append(conf)\n",
    "# ood_scores = torch.cat(conf_list).numpy()"
   ]
  },
  {
   "cell_type": "code",
   "execution_count": 34,
   "metadata": {},
   "outputs": [],
   "source": [
    "## Plot confidence score\n",
    "def plot_confidences(ind_scores, ood_scores):\n",
    "    ind_max, ind_min = np.max(ind_scores), np.min(ind_scores)\n",
    "    ood_max, ood_min = np.max(ood_scores), np.min(ood_scores)\n",
    "\n",
    "\n",
    "    ranges = (ind_min if ind_min < ood_min else ood_min, ind_max if ind_max > ood_max else ood_max)\n",
    "    ranges\n",
    "\n",
    "    fig=plt.figure()\n",
    "    sns.distplot(ind_scores.ravel(), hist_kws={'range': ranges}, kde=False, bins=50, norm_hist=True, label='In-distribution')\n",
    "    sns.distplot(ood_scores.ravel(), hist_kws={'range': ranges}, kde=False, bins=50, norm_hist=True, label='Out-of-distribution')\n",
    "    plt.xlabel('Confidence')\n",
    "    plt.ylabel('Density')\n",
    "    fig.legend()"
   ]
  },
  {
   "cell_type": "code",
   "execution_count": 35,
   "metadata": {},
   "outputs": [
    {
     "name": "stdout",
     "output_type": "stream",
     "text": [
      "AUROC: 0.8753767323267673 | AUPR: 0.8782964494526365 | FPR95: 0.543045695430457\n",
      "acc:  0.9172\n",
      "acc_w_ood:  0.7873606085777283\n"
     ]
    },
    {
     "data": {
      "image/png": "[encoded data removed]",
      "text/plain": [
       "<Figure size 432x288 with 1 Axes>"
      ]
     },
     "metadata": {
      "needs_background": "light"
     },
     "output_type": "display_data"
    },
    {
     "data": {
      "image/png": "[encoded data removed]",
      "text/plain": [
       "<Figure size 432x288 with 1 Axes>"
      ]
     },
     "metadata": {
      "needs_background": "light"
     },
     "output_type": "display_data"
    }
   ],
   "source": [
    "## Metrics\n",
    "plot_confidences(ind_f_scores, ood_f_scores)\n",
    "plot_confidences(ind_h_scores, ood_h_scores)\n",
    "\n",
    "confidences = torch.cat((ind_confidences, ood_confidences), 0)\n",
    "logits = torch.cat((ind_logits, ood_logits), 0)\n",
    "\n",
    "targets = ind_targets\n",
    "(auroc, aupr, fpr) = metrics.get_ood_measures(confidences, targets)\n",
    "print(\"AUROC: {} | AUPR: {} | FPR95: {}\".format(auroc, aupr, fpr))\n",
    "num_topks_correct = metrics.topks_correct(logits[:len(targets)], targets, (1,))\n",
    "[top1_correct] = [x for x in num_topks_correct]\n",
    "print(\"acc: \", top1_correct.item() / targets.size(0))\n",
    "\n",
    "acc_w_ood = metrics.classify_acc_w_ood(logits, targets, confidences)\n",
    "print(\"acc_w_ood: \", acc_w_ood.item())"
   ]
  }
 ],
 "metadata": {
  "kernelspec": {
   "display_name": "ood",
   "language": "python",
   "name": "ood"
  },
  "language_info": {
   "codemirror_mode": {
    "name": "ipython",
    "version": 3
   },
   "file_extension": ".py",
   "mimetype": "text/x-python",
   "name": "python",
   "nbconvert_exporter": "python",
   "pygments_lexer": "ipython3",
   "version": "3.7.7"
  }
 },
 "nbformat": 4,
 "nbformat_minor": 4
}
